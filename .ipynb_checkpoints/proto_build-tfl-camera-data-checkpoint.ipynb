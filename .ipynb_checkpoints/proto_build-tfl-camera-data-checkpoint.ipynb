{
 "cells": [
  {
   "cell_type": "code",
   "execution_count": 14,
   "metadata": {},
   "outputs": [],
   "source": [
    "import pandas as pd\n",
    "import requests\n",
    "from bs4 import BeautifulSoup\n",
    "import arcgis\n",
    "from arcgis.features import GeoAccessor, GeoSeriesAccessor"
   ]
  },
  {
   "cell_type": "code",
   "execution_count": 15,
   "metadata": {},
   "outputs": [
    {
     "name": "stdout",
     "output_type": "stream",
     "text": [
      "Attempting to log in to 'https://esrifederal.maps.arcgis.com'...\n",
      "Please sign in to your GIS and paste the code that is obtained below.\n",
      "If a web browser does not automatically open, please navigate to the URL below yourself instead.\n",
      "Opening web browser to navigate to: https://esrifederal.maps.arcgis.com/sharing/rest/oauth2/authorize?client_id=wt3QUR1M4eum0TVI&response_type=code&expiration=-1&redirect_uri=urn%3Aietf%3Awg%3Aoauth%3A2.0%3Aoob\n",
      "Enter code obtained on signing in using SAML: ········\n",
      "Successfully logged in as: albe9057@esri.com_esrifederal\n"
     ]
    }
   ],
   "source": [
    "portals_dict = {\n",
    "    \"esrifederal_gis\": r\"https://esrifederal.maps.arcgis.com\",\n",
    "    \"natgov_gis\": r\"http://esri-natgov105.eastus.cloudapp.azure.com/arcgis\",\n",
    "    \"dot_gis\": r\"http://dot.esri.com/portal\",\n",
    "    \"dev_gis\": r\"http://govdev.eastus.cloudapp.azure.com/arcgis\",\n",
    "    \"local_gis\": r\"https://anieto.esri.com/arcgis\",\n",
    "    \"brett_gis\": r\"https://agsbase.dcwebgis.net/portal\"\n",
    "}\n",
    "\n",
    "gis_url = portals_dict[\"esrifederal_gis\"]\n",
    "\n",
    "if gis_url == portals_dict[\"esrifederal_gis\"]:\n",
    "    gis_app_id = r\"wt3QUR1M4eum0TVI\"\n",
    "    print(\"Attempting to log in to '{0}'...\".format(gis_url))\n",
    "    gis = arcgis.gis.GIS(gis_url, client_id=gis_app_id)\n",
    "    print(\"Successfully logged in as: \" + gis.properties.user.username)\n",
    "else:\n",
    "    gis_username = getpass.getpass(prompt=\"Username: \")\n",
    "    gis_pw = getpass.getpass(prompt=\"Password: \")\n",
    "    print(\"Attempting to log in to '{0}'...\".format(gis_url))\n",
    "    gis = arcgis.gis.GIS(gis_url, gis_username, gis_pw, verify_cert=False)\n",
    "    print(\"Successfully logged in as: \" + gis.properties.user.username)"
   ]
  },
  {
   "cell_type": "code",
   "execution_count": 16,
   "metadata": {},
   "outputs": [],
   "source": [
    "# gis = arcgis.gis.GIS(\"https://esrifederal.maps.arcgis.com\", username=\"Anieto_esrifederal\")"
   ]
  },
  {
   "cell_type": "code",
   "execution_count": 17,
   "metadata": {},
   "outputs": [
    {
     "data": {
      "text/plain": [
       "[]"
      ]
     },
     "execution_count": 17,
     "metadata": {},
     "output_type": "execute_result"
    }
   ],
   "source": [
    "gis.content.search('eac792983a6949c1bed023eca8d8afc6')"
   ]
  },
  {
   "cell_type": "code",
   "execution_count": 27,
   "metadata": {},
   "outputs": [
    {
     "data": {
      "text/plain": [
       "[<Item title:\"Panama Canal Camera Locations\" type:Feature Layer Collection owner:kgorton>,\n",
       " <Item title:\"Florida_Camera_Locations\" type:Feature Layer Collection owner:johnfry10>,\n",
       " <Item title:\"DIF_Camera_Locations_v1\" type:Feature Layer Collection owner:james_jones_federal>,\n",
       " <Item title:\"DDOT Traffic Cameras (Firefly)\" type:Feature Layer Collection owner:albe9057@esri.com_esrifederal>,\n",
       " <Item title:\"Buffer of VDOT Cameras VA BEACH\" type:Feature Layer Collection owner:johnfry10>,\n",
       " <Item title:\"Camera Location VDOT\" type:Feature Layer Collection owner:johnfry10>,\n",
       " <Item title:\"DDOT Traffic Cameras\" type:Feature Layer Collection owner:albe9057@esri.com_esrifederal>]"
      ]
     },
     "execution_count": 27,
     "metadata": {},
     "output_type": "execute_result"
    }
   ],
   "source": [
    "gis.content.search('title: Camera',\n",
    "                   'Feature Layer')"
   ]
  },
  {
   "cell_type": "code",
   "execution_count": 28,
   "metadata": {},
   "outputs": [
    {
     "data": {
      "text/plain": [
       "[]"
      ]
     },
     "execution_count": 28,
     "metadata": {},
     "output_type": "execute_result"
    }
   ],
   "source": [
    "object_point_srvc = gis.content.search(\"VL_TFL_CameraNetwork_Proto01\", item_type=\"feature service\")\n",
    "object_point_srvc"
   ]
  },
  {
   "cell_type": "code",
   "execution_count": 20,
   "metadata": {},
   "outputs": [],
   "source": [
    "source_html = r\"http://content.tfl.gov.uk/camera-list.xml\""
   ]
  },
  {
   "cell_type": "code",
   "execution_count": 21,
   "metadata": {},
   "outputs": [
    {
     "data": {
      "text/plain": [
       "[<camera available=\"true\" id=\"00001.01445\"><corridor></corridor><location>A10 Grt Cambridge Rd/A110 S' bury Rd</location><currentview>A10 South</currentview><file>0000101445.jpg</file><capturetime>2012-04-20T15:15:03.046+01:00</capturetime><easting>534286.0</easting><northing>196318.0</northing><lat>51.649628</lat><lng>-0.060391203</lng><osgr>TQ343963</osgr><postcode>EN1 1RQ</postcode></camera>,\n",
       " <camera available=\"true\" id=\"00001.01685\"><corridor></corridor><location>Hackney Rd/Camb Heath Rd</location><currentview>Hackney Rd</currentview><file>0000101685.jpg</file><capturetime>2012-04-20T15:15:39.937+01:00</capturetime><easting>534865.0</easting><northing>183315.0</northing><lat>51.532642</lat><lng>-0.057019833</lng><osgr>TQ349833</osgr><postcode>E2 9HB</postcode></camera>,\n",
       " <camera available=\"true\" id=\"00001.02500\"><corridor></corridor><location>Victoria Embkmt/Temple Place</location><currentview>West</currentview><file>0000102500.jpg</file><capturetime>2012-04-20T15:15:07.212+01:00</capturetime><easting>530898.0</easting><northing>180774.0</northing><lat>51.51074</lat><lng>-0.11512167</lng><osgr>TQ309808</osgr><postcode>EC4Y 9BW</postcode></camera>,\n",
       " <camera available=\"true\" id=\"00001.02425\"><corridor></corridor><location>A12 Eastern Avenue/A125 North St</location><currentview>A12 S/B</currentview><file>0000102425.jpg</file><capturetime>2012-04-20T15:15:41.142+01:00</capturetime><easting>550650.0</easting><northing>189757.0</northing><lat>51.586533</lat><lng>0.17314494</lng><osgr>TQ507898</osgr><postcode>RM1 4QJ</postcode></camera>,\n",
       " <camera available=\"true\" id=\"00001.01252\"><corridor></corridor><location>Curtain Rd / Old Street</location><currentview>Old St S/B</currentview><file>0000101252.jpg</file><capturetime>2012-04-20T15:15:40.505+01:00</capturetime><easting>533252.0</easting><northing>182647.0</northing><lat>51.52702</lat><lng>-0.08051296</lng><osgr>TQ333826</osgr><postcode>EC1V 9LE</postcode></camera>,\n",
       " <camera available=\"false\" id=\"00001.01437\"><corridor></corridor><location>Grt Cambridge Rd/A406 NCR R'about</location><currentview>A10 N/B</currentview><file>0000101437.jpg</file><unavailabilitycause>In use keeping London moving</unavailabilitycause><capturetime></capturetime><easting>532568.0</easting><northing>192637.0</northing><lat>51.616955</lat><lng>-0.08660104</lng><osgr>TQ326926</osgr><postcode>N13 5DD</postcode></camera>,\n",
       " <camera available=\"false\" id=\"00001.01436\"><corridor></corridor><location>Bowes Rd/Brownlow Rd</location><currentview>N Circ W/B</currentview><file>0000101436.jpg</file><unavailabilitycause>In use keeping London moving</unavailabilitycause><capturetime></capturetime><easting>530188.0</easting><northing>192106.0</northing><lat>51.61274</lat><lng>-0.12115418</lng><osgr>TQ302921</osgr><postcode>N13 4SE</postcode></camera>,\n",
       " <camera available=\"true\" id=\"00001.03590\"><corridor></corridor><location>Kings X Rd / Wharton St</location><currentview>Kings Cross Rd - South/East</currentview><file>0000103590.jpg</file><capturetime>2012-04-20T15:15:16.720+01:00</capturetime><easting>530825.0</easting><northing>182653.0</northing><lat>51.5276</lat><lng>-0.115476</lng><osgr>TQ308827</osgr><postcode>EC1R 3AS</postcode></camera>,\n",
       " <camera available=\"true\" id=\"00001.03591\"><corridor></corridor><location>Kings X Rd / Swinton St</location><currentview>K X Rd N/B</currentview><file>0000103591.jpg</file><capturetime>2012-04-20T15:15:08.750+01:00</capturetime><easting>530803.0</easting><northing>182850.0</northing><lat>51.52942</lat><lng>-0.11571996</lng><osgr>TQ308829</osgr><postcode>N1 9NZ</postcode></camera>,\n",
       " <camera available=\"false\" id=\"00001.02002\"><corridor></corridor><location>Lower Thames St/London Bridge</location><currentview>Lower Thames St W/B</currentview><file>0000102002.jpg</file><unavailabilitycause>In use keeping London moving</unavailabilitycause><capturetime></capturetime><easting>532873.0</easting><northing>180686.0</northing><lat>51.509487</lat><lng>-0.08671175</lng><osgr>TQ329807</osgr><postcode>EC3R 6DJ</postcode></camera>,\n",
       " <camera available=\"true\" id=\"00001.03721\"><corridor></corridor><location>Court Rd/Sidcup Rd</location><currentview>A20 South/East</currentview><file>0000103721.jpg</file><capturetime>2012-04-20T15:15:24.839+01:00</capturetime><easting>542584.0</easting><northing>173113.0</northing><lat>51.439075</lat><lng>0.050074738</lng><osgr>TQ426731</osgr><postcode>SE9 4UD</postcode></camera>,\n",
       " <camera available=\"true\" id=\"00001.03764\"><corridor></corridor><location>A20 Sidcup Rd/Coyler Close</location><currentview>A20 South/East</currentview><file>0000103764.jpg</file><capturetime>2012-04-20T15:14:52.073+01:00</capturetime><easting>543500.0</easting><northing>172697.0</northing><lat>51.435104</lat><lng>0.063076235</lng><osgr>TQ435727</osgr><postcode>SE9 3TJ</postcode></camera>,\n",
       " <camera available=\"true\" id=\"00001.03766\"><corridor></corridor><location>A20 Sidcup Bypass/Perry St</location><currentview>East (A20 twds M20)</currentview><file>0000103766.jpg</file><capturetime>2012-04-20T15:14:43.541+01:00</capturetime><easting>545996.0</easting><northing>170899.0</northing><lat>51.418312</lat><lng>0.098218806</lng><osgr>TQ460709</osgr><postcode>BR7 6HD</postcode></camera>,\n",
       " <camera available=\"true\" id=\"00001.03752\"><corridor></corridor><location>Catford One Way/Rushey Green</location><currentview>A21 Catford Gyr S/B</currentview><file>0000103752.jpg</file><capturetime>2012-04-20T15:14:56.430+01:00</capturetime><easting>537688.0</easting><northing>173631.0</northing><lat>51.44494</lat><lng>-0.020119945</lng><osgr>TQ377736</osgr><postcode>SE6 4BP</postcode></camera>,\n",
       " <camera available=\"true\" id=\"00001.03902\"><corridor></corridor><location>Thurlow Park Road/Croxted Road</location><currentview>A205 West</currentview><file>0000103902.jpg</file><capturetime>2012-04-20T15:15:27.578+01:00</capturetime><easting>532657.0</easting><northing>173077.0</northing><lat>51.441162</lat><lng>-0.092676826</lng><osgr>TQ327731</osgr><postcode>SE21 8JJ</postcode></camera>,\n",
       " <camera available=\"true\" id=\"00001.04327\"><corridor></corridor><location>Millbank/Vauxhall Bridge</location><currentview>Vauxhall Bridge</currentview><file>0000104327.jpg</file><capturetime>2012-04-20T15:15:26.962+01:00</capturetime><easting>529946.0</easting><northing>178302.0</northing><lat>51.488743</lat><lng>-0.12974188</lng><osgr>TQ299783</osgr><postcode>SW1P 4RP</postcode></camera>,\n",
       " <camera available=\"true\" id=\"00001.04256\"><corridor></corridor><location>Vauxhall Cross</location><currentview>A202 Vauxhall Br Rd W/B</currentview><file>0000104256.jpg</file><capturetime>2012-04-20T15:15:18.407+01:00</capturetime><easting>530371.0</easting><northing>178049.0</northing><lat>51.486374</lat><lng>-0.12371739</lng><osgr>TQ304780</osgr><postcode>SE11 5AD</postcode></camera>,\n",
       " <camera available=\"true\" id=\"00001.06910\"><corridor></corridor><location>A4 Great West Rd/A3063 Sutton Ln</location><currentview>A4 - East</currentview><file>0000106910.jpg</file><capturetime>2012-04-20T15:14:22.414+01:00</capturetime><easting>513123.0</easting><northing>176712.0</northing><lat>51.478065</lat><lng>-0.37244242</lng><osgr>TQ131767</osgr><postcode>KT8 1TN</postcode></camera>,\n",
       " <camera available=\"false\" id=\"00001.06600\"><corridor></corridor><location>Cromwell Rd/Earls Court Rd</location><currentview>Earls Court Rd Sth</currentview><file>0000106600.jpg</file><unavailabilitycause>In use keeping London moving</unavailabilitycause><capturetime></capturetime><easting>525351.0</easting><northing>178843.0</northing><lat>51.494644</lat><lng>-0.1956966</lng><osgr>TQ254788</osgr><postcode>SW10 9BP</postcode></camera>,\n",
       " <camera available=\"false\" id=\"00001.06641\"><corridor></corridor><location>Kensington High St/Church St</location><currentview></currentview><file>0000106641.jpg</file><unavailabilitycause>Unavailable for Operational reasons</unavailabilitycause><capturetime></capturetime><easting>525669.0</easting><northing>179666.0</northing><lat>51.50197</lat><lng>-0.19082542</lng><osgr></osgr><postcode></postcode></camera>,\n",
       " <camera available=\"true\" id=\"00001.06610\"><corridor></corridor><location>A4 Great W Rd/Macbeth St</location><currentview> Gt West Rd E/B</currentview><file>0000106610.jpg</file><capturetime>2012-04-20T15:14:12.423+01:00</capturetime><easting>522781.0</easting><northing>178369.0</northing><lat>51.490948</lat><lng>-0.23286305</lng><osgr>TQ228784</osgr><postcode>SW13 9QT</postcode></camera>,\n",
       " <camera available=\"true\" id=\"00001.06611\"><corridor></corridor><location>A4 Great W Rd/Syon Ln</location><currentview>A4 E/B</currentview><file>0000106611.jpg</file><capturetime>2012-04-20T15:14:37.900+01:00</capturetime><easting>516325.0</easting><northing>177370.0</northing><lat>51.48333</lat><lng>-0.32613903</lng><osgr>TQ163774</osgr><postcode>HA0 1ER</postcode></camera>,\n",
       " <camera available=\"true\" id=\"00001.04570\"><corridor></corridor><location>A23 Purley Cross/A23 Foxley Lane</location><currentview>A23 South</currentview><file>0000104570.jpg</file><capturetime>2012-04-20T15:14:46.184+01:00</capturetime><easting>531229.0</easting><northing>161763.0</northing><lat>51.339817</lat><lng>-0.11738936</lng><osgr>TQ312618</osgr><postcode>CR8 2YA</postcode></camera>,\n",
       " <camera available=\"false\" id=\"00001.06501\"><corridor></corridor><location>Parliament Square</location><currentview></currentview><file>0000106501.jpg</file><unavailabilitycause>Unavailable for Operational reasons</unavailabilitycause><capturetime></capturetime><easting>530151.0</easting><northing>179680.0</northing><lat>51.50108</lat><lng>-0.12628318</lng><osgr></osgr><postcode></postcode></camera>,\n",
       " <camera available=\"true\" id=\"00001.06502\"><corridor></corridor><location>Trafalgar Square</location><currentview>Strand</currentview><file>0000106502.jpg</file><capturetime>2012-04-20T15:14:37.727+01:00</capturetime><easting>530038.0</easting><northing>180383.0</northing><lat>51.507423</lat><lng>-0.1276513</lng><osgr>TQ300804</osgr><postcode>SW1A 2DR</postcode></camera>,\n",
       " <camera available=\"true\" id=\"00001.06748\"><corridor></corridor><location>A30 Great Sth/W Rd/The Parkway</location><currentview>A30 N/B</currentview><file>0000106748.jpg</file><capturetime>2012-04-20T15:14:22.358+01:00</capturetime><easting>510878.0</easting><northing>176047.0</northing><lat>51.472534</lat><lng>-0.4049646</lng><osgr>TQ109760</osgr><postcode>KT8 1QX</postcode></camera>,\n",
       " <camera available=\"false\" id=\"00001.06520\"><corridor></corridor><location>Buck Palace Rd/Eccleston Bridge</location><currentview></currentview><file>0000106520.jpg</file><unavailabilitycause>Unavailable for Operational reasons</unavailabilitycause><capturetime></capturetime><easting>528764.0</easting><northing>178872.0</northing><lat>51.494137</lat><lng>-0.14654908</lng><osgr></osgr><postcode></postcode></camera>,\n",
       " <camera available=\"false\" id=\"00001.06511\"><corridor></corridor><location>Victoria St/Wilton Rd</location><currentview></currentview><file>0000106511.jpg</file><unavailabilitycause>Unavailable for Operational reasons</unavailabilitycause><capturetime></capturetime><easting>529044.0</easting><northing>179123.0</northing><lat>51.49633</lat><lng>-0.14242628</lng><osgr></osgr><postcode></postcode></camera>,\n",
       " <camera available=\"false\" id=\"00001.06512\"><corridor></corridor><location>Hobart Place/Grosvenor Place</location><currentview></currentview><file>0000106512.jpg</file><unavailabilitycause>Unavailable for Operational reasons</unavailabilitycause><capturetime></capturetime><easting>528725.0</easting><northing>179323.0</northing><lat>51.4982</lat><lng>-0.14694618</lng><osgr></osgr><postcode></postcode></camera>,\n",
       " <camera available=\"true\" id=\"00001.06738\"><corridor></corridor><location>A312 Hampton Rd York Way</location><currentview>A312 N/B</currentview><file>0000106738.jpg</file><capturetime>2012-04-20T15:14:44.604+01:00</capturetime><easting>512653.0</easting><northing>172181.0</northing><lat>51.437435</lat><lng>-0.38064918</lng><osgr>TQ127722</osgr><postcode>KT8 1TJ</postcode></camera>,\n",
       " <camera available=\"true\" id=\"00001.04670\"><corridor></corridor><location>Beverley Way/Coombe Lane Flyover</location><currentview>A3 South (twds New Malden)</currentview><file>0000104670.jpg</file><capturetime>2012-04-20T15:14:18.991+01:00</capturetime><easting>521723.0</easting><northing>170002.0</northing><lat>51.415977</lat><lng>-0.2509709</lng><osgr>TQ217700</osgr><postcode>KT2 7EQ</postcode></camera>,\n",
       " <camera available=\"true\" id=\"00001.04690\"><corridor></corridor><location>A3 Hook Rise/A243 Hook Rd</location><currentview>A3 South/West</currentview><file>0000104690.jpg</file><capturetime>2012-04-20T15:14:42.144+01:00</capturetime><easting>518169.0</easting><northing>165385.0</northing><lat>51.375233</lat><lng>-0.30358946</lng><osgr>TQ182654</osgr><postcode>KT6 5AT</postcode></camera>,\n",
       " <camera available=\"true\" id=\"00001.04600\"><corridor></corridor><location>Kng William St/Arthur St</location><currentview>London Bridge</currentview><file>0000104600.jpg</file><capturetime>2012-04-20T15:14:51.439+01:00</capturetime><easting>532839.0</easting><northing>180737.0</northing><lat>51.509953</lat><lng>-0.08718219</lng><osgr>TQ328807</osgr><postcode>EC4R 9AS</postcode></camera>,\n",
       " <camera available=\"true\" id=\"00001.04622\"><corridor></corridor><location>Clapham Common/Northside</location><currentview>defaultPresetName</currentview><file>0000104622.jpg</file><capturetime>2012-04-20T15:14:19.999+01:00</capturetime><easting>527918.0</easting><northing>175181.0</northing><lat>51.46116</lat><lng>-0.16006413</lng><osgr>TQ279752</osgr><postcode>SW11 5RZ</postcode></camera>,\n",
       " <camera available=\"true\" id=\"00001.04646\"><corridor></corridor><location>A3 Roehampton Vale/A308 Robin Hood</location><currentview>A3 N/B</currentview><file>0000104646.jpg</file><capturetime>2012-04-20T15:14:08.875+01:00</capturetime><easting>521325.0</easting><northing>172214.0</northing><lat>51.435944</lat><lng>-0.25593466</lng><osgr>TQ213722</osgr><postcode>SW15 3RR</postcode></camera>,\n",
       " <camera available=\"true\" id=\"00001.04645\"><corridor></corridor><location>West Hill/Sutherland Grove</location><currentview>A3 North/East</currentview><file>0000104645.jpg</file><capturetime>2012-04-20T15:14:51.745+01:00</capturetime><easting>524390.0</easting><northing>174277.0</northing><lat>51.45382</lat><lng>-0.2111385</lng><osgr>TQ244743</osgr><postcode>SW15 3SS</postcode></camera>,\n",
       " <camera available=\"true\" id=\"00001.04642\"><corridor></corridor><location>A3 Tibett Crn/Withycombe Rd</location><currentview>A23 North/East</currentview><file>0000104642.jpg</file><capturetime>2012-04-20T15:14:06.244+01:00</capturetime><easting>523669.0</easting><northing>173676.0</northing><lat>51.448574</lat><lng>-0.22171973</lng><osgr>TQ237737</osgr><postcode>SW19 6AN</postcode></camera>,\n",
       " <camera available=\"true\" id=\"00001.04639\"><corridor></corridor><location>A3 Kingston Bp/Burlington Rd</location><currentview>A3 N/B</currentview><file>0000104639.jpg</file><capturetime>2012-04-20T15:14:13.050+01:00</capturetime><easting>522283.0</easting><northing>168191.0</northing><lat>51.399582</lat><lng>-0.24354583</lng><osgr>TQ223682</osgr><postcode>KT3 4NA</postcode></camera>,\n",
       " <camera available=\"true\" id=\"00001.04638\"><corridor></corridor><location>A3 Kingston Rd/Roehampton Ln</location><currentview>S3 E/B</currentview><file>0000104638.jpg</file><capturetime>2012-04-20T15:14:52.093+01:00</capturetime><easting>522808.0</easting><northing>173203.0</northing><lat>51.44451</lat><lng>-0.23426756</lng><osgr>TQ228732</osgr><postcode>SW15 4AW</postcode></camera>,\n",
       " <camera available=\"true\" id=\"00001.07460\"><corridor></corridor><location>Albany St S of Robert St</location><currentview>Albany St S/B</currentview><file>0000107460.jpg</file><capturetime>2012-04-20T15:14:44.659+01:00</capturetime><easting>528817.0</easting><northing>182626.0</northing><lat>51.527863</lat><lng>-0.14441575</lng><osgr>TQ288826</osgr><postcode>NW1 4EG</postcode></camera>,\n",
       " <camera available=\"true\" id=\"00001.07560\"><corridor></corridor><location>Kentish Twn Rd/Hawley Rd</location><currentview>Kentish Town N/B</currentview><file>0000107560.jpg</file><capturetime>2012-04-20T15:15:17.662+01:00</capturetime><easting>528959.0</easting><northing>184296.0</northing><lat>51.542835</lat><lng>-0.14175878</lng><osgr>TQ290843</osgr><postcode>NW1 9PU</postcode></camera>,\n",
       " <camera available=\"true\" id=\"00001.06948\"><corridor></corridor><location>A4 Colnbrook/Stanwell Moor Rd</location><currentview>A4 West</currentview><file>0000106948.jpg</file><capturetime>2012-04-20T15:14:23.423+01:00</capturetime><easting>504774.0</easting><northing>177182.0</northing><lat>51.4839</lat><lng>-0.49247953</lng><osgr>TQ048772</osgr><postcode>SL3 0EB</postcode></camera>,\n",
       " <camera available=\"true\" id=\"00001.07551\"><corridor></corridor><location>Cambridge Circus</location><currentview>Shaftsbury Av S/B</currentview><file>0000107551.jpg</file><capturetime>2012-04-20T15:14:51.506+01:00</capturetime><easting>529921.0</easting><northing>181019.0</northing><lat>51.51317</lat><lng>-0.12910207</lng><osgr>TQ299810</osgr><postcode>SW1Y 4DR</postcode></camera>,\n",
       " <camera available=\"true\" id=\"00001.06914\"><corridor></corridor><location>A4 Bath Rd/Henleys R'about</location><currentview>A4 and A30 Henlys Roundabout</currentview><file>0000106914.jpg</file><capturetime>2012-04-20T15:15:02.230+01:00</capturetime><easting>511605.0</easting><northing>176344.0</northing><lat>51.47506</lat><lng>-0.394408</lng><osgr>TQ116763</osgr><postcode>KT8 1TJ</postcode></camera>,\n",
       " <camera available=\"false\" id=\"00001.09731\"><corridor></corridor><location>A1 Barnet Wy/Barnet Ln</location><currentview>A1 N/B</currentview><file>0000109731.jpg</file><unavailabilitycause>In use keeping London moving</unavailabilitycause><capturetime></capturetime><easting>520880.0</easting><northing>195274.0</northing><lat>51.643284</lat><lng>-0.2544219</lng><osgr>TQ209953</osgr><postcode>EN5 3JG</postcode></camera>,\n",
       " <camera available=\"false\" id=\"00001.09730\"><corridor></corridor><location>A1 Barnet Wy/A41 Edgware Wy</location><currentview>A1 North</currentview><file>0000109730.jpg</file><unavailabilitycause>In use keeping London moving</unavailabilitycause><capturetime></capturetime><easting>520912.0</easting><northing>192885.0</northing><lat>51.621807</lat><lng>-0.25478393</lng><osgr>TQ209929</osgr><postcode>NW7 3ET</postcode></camera>,\n",
       " <camera available=\"true\" id=\"00001.09732\"><corridor></corridor><location>A1 Archway Rd/Bakers Ln</location><currentview>Archway Rd S/B</currentview><file>0000109732.jpg</file><capturetime>2012-04-20T15:14:51.729+01:00</capturetime><easting>527831.0</easting><northing>188598.0</northing><lat>51.581753</lat><lng>-0.1564528</lng><osgr>TQ278886</osgr><postcode>N6 4NA</postcode></camera>,\n",
       " <camera available=\"true\" id=\"00001.09742\"><corridor></corridor><location>Watford Way/Great North Way</location><currentview>A1 S/B</currentview><file>0000109742.jpg</file><capturetime>2012-04-20T15:15:18.429+01:00</capturetime><easting>522329.0</easting><northing>190704.0</northing><lat>51.601902</lat><lng>-0.23508587</lng><osgr>TQ223907</osgr><postcode>NW4 4TL</postcode></camera>,\n",
       " <camera available=\"true\" id=\"00001.09744\"><corridor></corridor><location>A1 Watford Way/The Broadway</location><currentview>A1 N/B</currentview><file>0000109744.jpg</file><capturetime>2012-04-20T15:15:18.400+01:00</capturetime><easting>521595.0</easting><northing>192359.0</northing><lat>51.616932</lat><lng>-0.24510518</lng><osgr>TQ216924</osgr><postcode>NW7 4TD</postcode></camera>,\n",
       " <camera available=\"false\" id=\"00001.08750\"><corridor></corridor><location>Hyde Park Corner/Park Lane</location><currentview></currentview><file>0000108750.jpg</file><unavailabilitycause>Unavailable for Operational reasons</unavailabilitycause><capturetime></capturetime><easting>528430.0</easting><northing>179887.0</northing><lat>51.503334</lat><lng>-0.15098847</lng><osgr></osgr><postcode></postcode></camera>,\n",
       " <camera available=\"false\" id=\"00001.07369\"><corridor></corridor><location>Baker St/Marylebone Rd</location><currentview></currentview><file>0000107369.jpg</file><unavailabilitycause>Unavailable for Operational reasons</unavailabilitycause><capturetime></capturetime><easting>527913.0</easting><northing>181977.0</northing><lat>51.522232</lat><lng>-0.15767553</lng><osgr></osgr><postcode></postcode></camera>,\n",
       " <camera available=\"false\" id=\"00001.07356\"><corridor></corridor><location>Euston Rd/Grays Inn Rd</location><currentview></currentview><file>0000107356.jpg</file><unavailabilitycause>Unavailable for Operational reasons</unavailabilitycause><capturetime></capturetime><easting>530328.0</easting><northing>182988.0</northing><lat>51.53077</lat><lng>-0.12251259</lng><osgr></osgr><postcode></postcode></camera>,\n",
       " <camera available=\"true\" id=\"00001.07316\"><corridor></corridor><location>High Rd/Ealing Road</location><currentview>High Rd E/B</currentview><file>0000107316.jpg</file><capturetime>2012-04-20T15:15:12.577+01:00</capturetime><easting>518032.0</easting><northing>185044.0</northing><lat>51.55195</lat><lng>-0.29899997</lng><osgr>TQ180850</osgr><postcode>HA0 4FW</postcode></camera>,\n",
       " <camera available=\"true\" id=\"00001.07317\"><corridor></corridor><location>A40/Hanger Lane Tunnel</location><currentview>Western Av E/B</currentview><file>0000107317.jpg</file><capturetime>2012-04-20T15:14:51.692+01:00</capturetime><easting>518371.0</easting><northing>182634.0</northing><lat>51.530216</lat><lng>-0.29492262</lng><osgr>TQ184826</osgr><postcode>NW10 7HG</postcode></camera>,\n",
       " <camera available=\"true\" id=\"00001.07380\"><corridor></corridor><location>Prince Albert Rd/Parkway</location><currentview>Pk Village East</currentview><file>0000107380.jpg</file><capturetime>2012-04-20T15:14:44.827+01:00</capturetime><easting>528627.0</easting><northing>183556.0</northing><lat>51.536263</lat><lng>-0.14681378</lng><osgr>TQ286836</osgr><postcode>NW1 7PS</postcode></camera>,\n",
       " <camera available=\"true\" id=\"00001.08003\"><corridor></corridor><location>A4088 Forty Av/Bridge Rd</location><currentview>Forty Ln W/B</currentview><file>0000108003.jpg</file><capturetime>2012-04-20T15:14:25.029+01:00</capturetime><easting>519501.0</easting><northing>186591.0</northing><lat>51.565544</lat><lng>-0.2772975</lng><osgr>TQ195866</osgr><postcode>HA9 9EY</postcode></camera>,\n",
       " <camera available=\"true\" id=\"00001.08005\"><corridor></corridor><location>Grt Central Way/Drury Way</location><currentview>Gt C'tral Way </currentview><file>0000108005.jpg</file><capturetime>2012-04-20T15:14:27.142+01:00</capturetime><easting>521012.0</easting><northing>185418.0</northing><lat>51.55468</lat><lng>-0.25591195</lng><osgr>TQ210854</osgr><postcode>NW10 0TL</postcode></camera>,\n",
       " <camera available=\"true\" id=\"00001.08006\"><corridor></corridor><location>Neasden Ln North/A406</location><currentview>Neasden Lane North</currentview><file>0000108006.jpg</file><capturetime>2012-04-20T15:14:27.205+01:00</capturetime><easting>521145.0</easting><northing>186085.0</northing><lat>51.560646</lat><lng>-0.25376493</lng><osgr>TQ211861</osgr><postcode>NW10 0AG</postcode></camera>,\n",
       " <camera available=\"false\" id=\"00001.08007\"><corridor></corridor><location>Forty Lane/Blackbird Hill</location><currentview>Forty Lane W/B</currentview><file>0000108007.jpg</file><unavailabilitycause>In use keeping London moving</unavailabilitycause><capturetime></capturetime><easting>520338.0</easting><northing>186637.0</northing><lat>51.565777</lat><lng>-0.265212</lng><osgr>TQ203866</osgr><postcode>NW9 8RP</postcode></camera>,\n",
       " <camera available=\"false\" id=\"00001.08850\"><corridor></corridor><location>Marble Arch</location><currentview></currentview><file>0000108850.jpg</file><unavailabilitycause>Unavailable for Operational reasons</unavailabilitycause><capturetime></capturetime><easting>527764.0</easting><northing>180977.0</northing><lat>51.51328</lat><lng>-0.16018416</lng><osgr></osgr><postcode></postcode></camera>,\n",
       " <camera available=\"true\" id=\"00001.08100\"><corridor></corridor><location>A118 Romford Rd/A406 Ncr</location><currentview>A406 Off Ramp </currentview><file>0000108100.jpg</file><capturetime>2012-04-20T15:15:12.798+01:00</capturetime><easting>543247.0</easting><northing>186184.0</northing><lat>51.55636</lat><lng>0.06490906</lng><osgr>TQ432862</osgr><postcode>IG1 2DH</postcode></camera>,\n",
       " <camera available=\"false\" id=\"00001.08925\"><corridor></corridor><location>Park Rd / Gloucester Pl</location><currentview>Preset 1</currentview><file>0000108925.jpg</file><unavailabilitycause>In use keeping London moving</unavailabilitycause><capturetime></capturetime><easting>527641.0</easting><northing>182362.0</northing><lat>51.525757</lat><lng>-0.16145453</lng><osgr>TQ276824</osgr><postcode>NW1 6BH</postcode></camera>,\n",
       " <camera available=\"false\" id=\"00001.08926\"><corridor></corridor><location>Wellington Rd/St Johns Wd Rd</location><currentview>Wellington Rd N/B</currentview><file>0000108926.jpg</file><unavailabilitycause>In use keeping London moving</unavailabilitycause><capturetime></capturetime><easting>527113.0</easting><northing>182824.0</northing><lat>51.530025</lat><lng>-0.16889481</lng><osgr>TQ271828</osgr><postcode>NW8 7JT</postcode></camera>,\n",
       " <camera available=\"true\" id=\"00001.07929\"><corridor></corridor><location>A41 Hendon Way/Cricklewood Lane</location><currentview>North (A41 Hendon Way twds Brent Cross)</currentview><file>0000107929.jpg</file><capturetime>2012-04-20T15:14:44.903+01:00</capturetime><easting>524631.0</easting><northing>186247.0</northing><lat>51.56134</lat><lng>-0.2034454</lng><osgr>TQ246862</osgr><postcode>NW2 2TA</postcode></camera>,\n",
       " <camera available=\"false\" id=\"00001.07927\"><corridor></corridor><location>A5 Cricklewood Broadway</location><currentview>Cricklewood Bway N/B</currentview><file>0000107927.jpg</file><unavailabilitycause>In use keeping London moving</unavailabilitycause><capturetime></capturetime><easting>523803.0</easting><northing>185717.0</northing><lat>51.55676</lat><lng>-0.21557038</lng><osgr>TQ238857</osgr><postcode>NW2 3HX</postcode></camera>,\n",
       " <camera available=\"true\" id=\"00001.07925\"><corridor></corridor><location>A5 Kilburn High Rd/Willesden Ln</location><currentview>Kilburn H Rd S/B</currentview><file>0000107925.jpg</file><capturetime>2012-04-20T15:14:56.426+01:00</capturetime><easting>525084.0</easting><northing>184078.0</northing><lat>51.541748</lat><lng>-0.19768445</lng><osgr>TQ251841</osgr><postcode>NW6 4JH</postcode></camera>,\n",
       " <camera available=\"true\" id=\"00001.08303\"><corridor></corridor><location>A12 Eastern Av/Whalebone Ln</location><currentview>Whalebone Ln S/B</currentview><file>0000108303.jpg</file><capturetime>2012-04-20T15:14:32.460+01:00</capturetime><easting>548447.0</easting><northing>189096.0</northing><lat>51.58118</lat><lng>0.14109103</lng><osgr>TQ484891</osgr><postcode>RM6 5NX</postcode></camera>,\n",
       " <camera available=\"true\" id=\"00001.09096\"><corridor></corridor><location>Pier Road/Woolwich Ferry</location><currentview>Pier Rd W/B</currentview><file>0000109096.jpg</file><capturetime>2012-04-20T15:14:32.625+01:00</capturetime><easting>543342.0</easting><northing>179793.0</northing><lat>51.49891</lat><lng>0.0636799</lng><osgr>TQ433798</osgr><postcode>E16 2JJ</postcode></camera>,\n",
       " <camera available=\"true\" id=\"00001.09080\"><corridor></corridor><location>Sterling Way Slip/A1010 Fore St</location><currentview>A406 E/B</currentview><file>0000109080.jpg</file><capturetime>2012-04-20T15:14:47.850+01:00</capturetime><easting>534126.0</easting><northing>192442.0</northing><lat>51.614834</lat><lng>-0.06418597</lng><osgr>TQ341924</osgr><postcode>N18 2QH</postcode></camera>,\n",
       " <camera available=\"true\" id=\"00001.09055\"><corridor></corridor><location>John Wilson St/New Ferry Approach</location><currentview>Woolwich Ferry South Terminal entrance</currentview><file>0000109055.jpg</file><capturetime>2012-04-20T15:15:16.702+01:00</capturetime><easting>543222.0</easting><northing>179186.0</northing><lat>51.493484</lat><lng>0.06170617</lng><osgr>TQ432792</osgr><postcode>SE18 6DS</postcode></camera>,\n",
       " <camera available=\"true\" id=\"00001.09053\"><corridor></corridor><location>A406/Golders Grn Rd</location><currentview>A406 N/B</currentview><file>0000109053.jpg</file><capturetime>2012-04-20T15:14:58.467+01:00</capturetime><easting>523984.0</easting><northing>188400.0</northing><lat>51.580833</lat><lng>-0.21201515</lng><osgr>TQ240884</osgr><postcode>NW11 9JE</postcode></camera>,\n",
       " <camera available=\"true\" id=\"00001.09057\"><corridor></corridor><location>A406 Pinkham Way/Colney Hatch Ln</location><currentview>NCR East</currentview><file>0000109057.jpg</file><capturetime>2012-04-20T15:14:30.978+01:00</capturetime><easting>528136.0</easting><northing>191327.0</northing><lat>51.60621</lat><lng>-0.1510577</lng><osgr>TQ281913</osgr><postcode>N10 1ST</postcode></camera>,\n",
       " <camera available=\"true\" id=\"00001.09078\"><corridor></corridor><location>Sterling Way Slip/Victoria St</location><currentview>Sterling Way Slip E/B</currentview><file>0000109078.jpg</file><capturetime>2012-04-20T15:15:02.742+01:00</capturetime><easting>533852.0</easting><northing>192403.0</northing><lat>51.614548</lat><lng>-0.06815583</lng><osgr>TQ339924</osgr><postcode>N18 2UE</postcode></camera>]"
      ]
     },
     "execution_count": 21,
     "metadata": {},
     "output_type": "execute_result"
    }
   ],
   "source": [
    "html = requests.get(source_html)\n",
    "soup = BeautifulSoup(html.content, 'html.parser')\n",
    "cameralist = list(soup.find_all('camera'))\n",
    "cameralist"
   ]
  },
  {
   "cell_type": "code",
   "execution_count": 22,
   "metadata": {},
   "outputs": [
    {
     "data": {
      "text/plain": [
       "<lat>51.649628</lat>"
      ]
     },
     "execution_count": 22,
     "metadata": {},
     "output_type": "execute_result"
    }
   ],
   "source": [
    "lat = cameralist[0].find('lat')\n",
    "lat"
   ]
  },
  {
   "cell_type": "code",
   "execution_count": 23,
   "metadata": {},
   "outputs": [
    {
     "data": {
      "text/plain": [
       "'51.649628'"
      ]
     },
     "execution_count": 23,
     "metadata": {},
     "output_type": "execute_result"
    }
   ],
   "source": [
    "lat.contents[0]"
   ]
  },
  {
   "cell_type": "code",
   "execution_count": 25,
   "metadata": {},
   "outputs": [
    {
     "name": "stdout",
     "output_type": "stream",
     "text": [
      "00001.01445 51.649628\n"
     ]
    }
   ],
   "source": [
    "for camera in cameralist:\n",
    "    lat = camera.find('lat').contents[0]\n",
    "    lon = camera.find('lng').contents[0]\n",
    "    camera_id = camera['id']\n",
    "    print(camera_id, lat)\n",
    "    break"
   ]
  },
  {
   "cell_type": "code",
   "execution_count": null,
   "metadata": {},
   "outputs": [],
   "source": []
  }
 ],
 "metadata": {
  "kernelspec": {
   "display_name": "Python 3",
   "language": "python",
   "name": "python3"
  },
  "language_info": {
   "codemirror_mode": {
    "name": "ipython",
    "version": 3
   },
   "file_extension": ".py",
   "mimetype": "text/x-python",
   "name": "python",
   "nbconvert_exporter": "python",
   "pygments_lexer": "ipython3",
   "version": "3.6.6"
  }
 },
 "nbformat": 4,
 "nbformat_minor": 2
}
