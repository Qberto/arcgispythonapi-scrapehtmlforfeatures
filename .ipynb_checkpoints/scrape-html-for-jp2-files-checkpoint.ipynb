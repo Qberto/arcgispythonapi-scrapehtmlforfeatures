{
 "cells": [
  {
   "cell_type": "markdown",
   "metadata": {},
   "source": [
    "# Process: Scrape evr2est Web Page for JP2 Files\n",
    "\n",
    "Organization: Esri\n",
    "\n",
    "Author: Alberto Nieto (anieto@esri.com)\n",
    "\n",
    "Date: 9/18/2018\n",
    "\n",
    "Goal: Use the webpage at https://evr2est.us/mission/hurricaneflorence to download all the j2 files for Hurricane Florence imagery "
   ]
  },
  {
   "cell_type": "markdown",
   "metadata": {},
   "source": [
    "## Pseudocode"
   ]
  },
  {
   "cell_type": "markdown",
   "metadata": {},
   "source": [
    "- Set reference paths for webpage and target directory\n",
    "\n",
    "- Set list of all image links 'view scene page' urls\n",
    "\n",
    "- Iterate on 'view scene page' list:\n",
    "\n",
    "    - Open URL\n",
    "    - Download JP2000 file\n",
    "    - Save in target directory"
   ]
  },
  {
   "cell_type": "markdown",
   "metadata": {},
   "source": [
    "## Set needed modules"
   ]
  },
  {
   "cell_type": "code",
   "execution_count": null,
   "metadata": {},
   "outputs": [],
   "source": [
    "import pandas as pd\n",
    "import requests\n",
    "from bs4 import BeautifulSoup\n",
    "import arcgis\n",
    "import sys\n",
    "import os"
   ]
  },
  {
   "cell_type": "markdown",
   "metadata": {},
   "source": [
    "## Set helper functions"
   ]
  },
  {
   "cell_type": "code",
   "execution_count": null,
   "metadata": {},
   "outputs": [],
   "source": [
    "def get_list_of_ev2est_urls(root_html):\n",
    "    html = requests.get(webpage_url)\n",
    "    soup = BeautifulSoup(html.content, 'html.parser')\n",
    "    tablerecords = list(soup.find_all('a', title=\"Scene Page\"))\n",
    "    urllist = list(r\"https://evr2est.us\"+i['href'] for i in tablerecords)\n",
    "    return urllist"
   ]
  },
  {
   "cell_type": "code",
   "execution_count": null,
   "metadata": {},
   "outputs": [],
   "source": [
    "def download_jp2000_file(suburl, target_dir):\n",
    "    subhtml = requests.get(suburl)\n",
    "    subsoup = BeautifulSoup(subhtml.content, 'html.parser')\n",
    "    jp2tag = subsoup.find(\"a\", href=lambda href: href and \".jp2\" in href)\n",
    "    filename = jp2tag['href'].split('/')[-1]\n",
    "    if os.path.isfile(target_dir + \"//\" + filename):\n",
    "        print(\"File already present in target directory. Skipping...\")\n",
    "    else:\n",
    "        r = requests.get(jp2tag['href'], allow_redirects=True)\n",
    "        open(target_dir + \"//\" + filename, 'wb').write(r.content)\n",
    "    \n",
    "    return target_dir + \"//\" + filename"
   ]
  },
  {
   "cell_type": "code",
   "execution_count": null,
   "metadata": {},
   "outputs": [],
   "source": [
    "def main_iteration(webpage_url, target_dir):\n",
    "    print(\"Getting list of image urls...\")\n",
    "    urls_list = get_list_of_ev2est_urls(webpage_url)\n",
    "    print(\"List gathered. Starting iteration...\")\n",
    "    for i, url in enumerate(urls_list):\n",
    "        print(\"Downloading {0} of {1}...\".format(str(i+1), str(len(urls_list))))\n",
    "        try:\n",
    "            download_jp2000_file(url, target_dir)\n",
    "        except TypeError:\n",
    "            print('>>>> Error opening %s:' % (url))"
   ]
  },
  {
   "cell_type": "markdown",
   "metadata": {},
   "source": [
    "## Run Main"
   ]
  },
  {
   "cell_type": "code",
   "execution_count": null,
   "metadata": {},
   "outputs": [],
   "source": [
    "webpage_url = r\"https://evr2est.us/mission/hurricaneflorence\""
   ]
  },
  {
   "cell_type": "code",
   "execution_count": null,
   "metadata": {},
   "outputs": [],
   "source": [
    "target_dir = r\"D:\\3_Sandbox_Projects\\1809_HurricaneTransportationAssessment\\Hurricane Florence Damage Assessment\\Data\\evr2est\""
   ]
  },
  {
   "cell_type": "code",
   "execution_count": null,
   "metadata": {
    "scrolled": true
   },
   "outputs": [],
   "source": [
    "main_iteration(webpage_url, target_dir)"
   ]
  },
  {
   "cell_type": "markdown",
   "metadata": {
    "heading_collapsed": true
   },
   "source": [
    "## Prototyping section - section below was used for testing. \n",
    "\n",
    "View this only if you need to see the discrete steps for this sequence executed and tested. "
   ]
  },
  {
   "cell_type": "code",
   "execution_count": null,
   "metadata": {
    "hidden": true
   },
   "outputs": [],
   "source": [
    "html = requests.get(webpage_url)"
   ]
  },
  {
   "cell_type": "code",
   "execution_count": null,
   "metadata": {
    "hidden": true
   },
   "outputs": [],
   "source": [
    "soup = BeautifulSoup(html.content, 'html.parser')\n",
    "soup"
   ]
  },
  {
   "cell_type": "code",
   "execution_count": null,
   "metadata": {
    "hidden": true,
    "scrolled": true
   },
   "outputs": [],
   "source": [
    "tablerecords = list(soup.find_all('a', title=\"Scene Page\"))\n",
    "tablerecords"
   ]
  },
  {
   "cell_type": "code",
   "execution_count": null,
   "metadata": {
    "hidden": true,
    "scrolled": true
   },
   "outputs": [],
   "source": [
    "urls = list(r\"https://evr2est.us\"+i['href'] for i in tablerecords)\n",
    "urls"
   ]
  },
  {
   "cell_type": "code",
   "execution_count": null,
   "metadata": {
    "hidden": true
   },
   "outputs": [],
   "source": [
    "tablerecords[0]['href']"
   ]
  },
  {
   "cell_type": "code",
   "execution_count": null,
   "metadata": {
    "hidden": true
   },
   "outputs": [],
   "source": [
    "sublink_url = r\"https://evr2est.us\" + tablerecords[0]['href']\n",
    "sublink_url"
   ]
  },
  {
   "cell_type": "code",
   "execution_count": null,
   "metadata": {
    "hidden": true
   },
   "outputs": [],
   "source": [
    "subhtml = requests.get(sublink_url)\n",
    "subhtml.content"
   ]
  },
  {
   "cell_type": "code",
   "execution_count": null,
   "metadata": {
    "hidden": true
   },
   "outputs": [],
   "source": [
    "subsoup = BeautifulSoup(subhtml.content, 'html.parser')\n",
    "subsoup"
   ]
  },
  {
   "cell_type": "code",
   "execution_count": null,
   "metadata": {
    "hidden": true,
    "scrolled": true
   },
   "outputs": [],
   "source": [
    "recs = list(subsoup.find_all('a'))\n",
    "recs"
   ]
  },
  {
   "cell_type": "code",
   "execution_count": null,
   "metadata": {
    "hidden": true
   },
   "outputs": [],
   "source": [
    "jp2tag = subsoup.find(\"a\", href=lambda href: href and \".jp2\" in href)\n",
    "jp2tag"
   ]
  },
  {
   "cell_type": "code",
   "execution_count": null,
   "metadata": {
    "hidden": true
   },
   "outputs": [],
   "source": [
    "jp2tag['href']"
   ]
  },
  {
   "cell_type": "code",
   "execution_count": null,
   "metadata": {
    "hidden": true
   },
   "outputs": [],
   "source": [
    "filename = jp2tag['href'].split('/')[-1]\n",
    "filename"
   ]
  },
  {
   "cell_type": "code",
   "execution_count": null,
   "metadata": {
    "hidden": true
   },
   "outputs": [],
   "source": [
    "target_dir"
   ]
  },
  {
   "cell_type": "code",
   "execution_count": null,
   "metadata": {
    "hidden": true
   },
   "outputs": [],
   "source": [
    "r = requests.get(jp2tag['href'], allow_redirects=True)\n",
    "open(target_dir + \"//\" + filename, 'wb').write(r.content)"
   ]
  }
 ],
 "metadata": {
  "kernelspec": {
   "display_name": "Python 3",
   "language": "python",
   "name": "python3"
  },
  "language_info": {
   "codemirror_mode": {
    "name": "ipython",
    "version": 3
   },
   "file_extension": ".py",
   "mimetype": "text/x-python",
   "name": "python",
   "nbconvert_exporter": "python",
   "pygments_lexer": "ipython3",
   "version": "3.6.6"
  }
 },
 "nbformat": 4,
 "nbformat_minor": 2
}
